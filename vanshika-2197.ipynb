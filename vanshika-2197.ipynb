{
 "cells": [
  {
   "cell_type": "code",
   "execution_count": 1,
   "id": "dd3f4797",
   "metadata": {
    "_cell_guid": "b1076dfc-b9ad-4769-8c92-a6c4dae69d19",
    "_uuid": "8f2839f25d086af736a60e9eeb907d3b93b6e0e5",
    "execution": {
     "iopub.execute_input": "2024-06-20T08:03:37.644587Z",
     "iopub.status.busy": "2024-06-20T08:03:37.644223Z",
     "iopub.status.idle": "2024-06-20T08:03:40.114054Z",
     "shell.execute_reply": "2024-06-20T08:03:40.112874Z"
    },
    "papermill": {
     "duration": 2.484831,
     "end_time": "2024-06-20T08:03:40.116746",
     "exception": false,
     "start_time": "2024-06-20T08:03:37.631915",
     "status": "completed"
    },
    "tags": []
   },
   "outputs": [
    {
     "name": "stdout",
     "output_type": "stream",
     "text": [
      "/kaggle/input/week4-practice-hackathon-2024/sample_submission.csv\n",
      "/kaggle/input/week4-practice-hackathon-2024/Train.csv\n",
      "/kaggle/input/week4-practice-hackathon-2024/Test.csv\n"
     ]
    }
   ],
   "source": [
    "# This Python 3 environment comes with many helpful analytics libraries installed\n",
    "# It is defined by the kaggle/python Docker image: https://github.com/kaggle/docker-python\n",
    "# For example, here's several helpful packages to load\n",
    "\n",
    "import numpy as np # linear algebra\n",
    "import pandas as pd # data processing, CSV file I/O (e.g. pd.read_csv)\n",
    "from sklearn import preprocessing\n",
    "from sklearn.model_selection import train_test_split\n",
    "from sklearn.linear_model import LogisticRegression\n",
    "from tqdm.auto import tqdm\n",
    "from sklearn.pipeline import Pipeline\n",
    "from sklearn.decomposition import PCA\n",
    "from sklearn.preprocessing import StandardScaler\n",
    "from sklearn.metrics import f1_score\n",
    "import seaborn as sns\n",
    "\n",
    "# Input data files are available in the read-only \"../input/\" directory\n",
    "# For example, running this (by clicking run or pressing Shift+Enter) will list all files under the input directory\n",
    "\n",
    "import os\n",
    "for dirname, _, filenames in os.walk('/kaggle/input'):\n",
    "    for filename in filenames:\n",
    "        print(os.path.join(dirname, filename))\n",
    "\n",
    "# You can write up to 20GB to the current directory (/kaggle/working/) that gets preserved as output when you create a version using \"Save & Run All\"\n",
    "# You can also write temporary files to /kaggle/temp/, but they won't be saved outside of the current session"
   ]
  },
  {
   "cell_type": "code",
   "execution_count": 2,
   "id": "cccba134",
   "metadata": {
    "execution": {
     "iopub.execute_input": "2024-06-20T08:03:40.138482Z",
     "iopub.status.busy": "2024-06-20T08:03:40.137962Z",
     "iopub.status.idle": "2024-06-20T08:03:40.366509Z",
     "shell.execute_reply": "2024-06-20T08:03:40.365408Z"
    },
    "papermill": {
     "duration": 0.242264,
     "end_time": "2024-06-20T08:03:40.369274",
     "exception": false,
     "start_time": "2024-06-20T08:03:40.127010",
     "status": "completed"
    },
    "tags": []
   },
   "outputs": [],
   "source": [
    "train_df = pd.read_csv(\"/kaggle/input/week4-practice-hackathon-2024/Train.csv\")"
   ]
  },
  {
   "cell_type": "code",
   "execution_count": 3,
   "id": "a8a9191b",
   "metadata": {
    "execution": {
     "iopub.execute_input": "2024-06-20T08:03:40.391694Z",
     "iopub.status.busy": "2024-06-20T08:03:40.391307Z",
     "iopub.status.idle": "2024-06-20T08:03:40.397005Z",
     "shell.execute_reply": "2024-06-20T08:03:40.395927Z"
    },
    "papermill": {
     "duration": 0.020194,
     "end_time": "2024-06-20T08:03:40.399582",
     "exception": false,
     "start_time": "2024-06-20T08:03:40.379388",
     "status": "completed"
    },
    "tags": []
   },
   "outputs": [
    {
     "name": "stdout",
     "output_type": "stream",
     "text": [
      "(40776, 32)\n"
     ]
    }
   ],
   "source": [
    "print(train_df.shape)"
   ]
  },
  {
   "cell_type": "code",
   "execution_count": 4,
   "id": "6ef6f2d7",
   "metadata": {
    "execution": {
     "iopub.execute_input": "2024-06-20T08:03:40.422652Z",
     "iopub.status.busy": "2024-06-20T08:03:40.422271Z",
     "iopub.status.idle": "2024-06-20T08:03:40.464778Z",
     "shell.execute_reply": "2024-06-20T08:03:40.463707Z"
    },
    "papermill": {
     "duration": 0.057709,
     "end_time": "2024-06-20T08:03:40.467386",
     "exception": false,
     "start_time": "2024-06-20T08:03:40.409677",
     "status": "completed"
    },
    "tags": []
   },
   "outputs": [
    {
     "data": {
      "text/html": [
       "<div>\n",
       "<style scoped>\n",
       "    .dataframe tbody tr th:only-of-type {\n",
       "        vertical-align: middle;\n",
       "    }\n",
       "\n",
       "    .dataframe tbody tr th {\n",
       "        vertical-align: top;\n",
       "    }\n",
       "\n",
       "    .dataframe thead th {\n",
       "        text-align: right;\n",
       "    }\n",
       "</style>\n",
       "<table border=\"1\" class=\"dataframe\">\n",
       "  <thead>\n",
       "    <tr style=\"text-align: right;\">\n",
       "      <th></th>\n",
       "      <th>V1</th>\n",
       "      <th>V2</th>\n",
       "      <th>V3</th>\n",
       "      <th>V4</th>\n",
       "      <th>V5</th>\n",
       "      <th>V6</th>\n",
       "      <th>V7</th>\n",
       "      <th>V8</th>\n",
       "      <th>V9</th>\n",
       "      <th>V10</th>\n",
       "      <th>...</th>\n",
       "      <th>V45</th>\n",
       "      <th>V47</th>\n",
       "      <th>V50</th>\n",
       "      <th>V51</th>\n",
       "      <th>V52</th>\n",
       "      <th>V59</th>\n",
       "      <th>V63</th>\n",
       "      <th>V72</th>\n",
       "      <th>V75</th>\n",
       "      <th>class</th>\n",
       "    </tr>\n",
       "  </thead>\n",
       "  <tbody>\n",
       "    <tr>\n",
       "      <th>0</th>\n",
       "      <td>0.0</td>\n",
       "      <td>1.0</td>\n",
       "      <td>243.0</td>\n",
       "      <td>29</td>\n",
       "      <td>4528.0</td>\n",
       "      <td>138.0</td>\n",
       "      <td>3.0</td>\n",
       "      <td>29</td>\n",
       "      <td>201.0</td>\n",
       "      <td>0.0</td>\n",
       "      <td>...</td>\n",
       "      <td>2</td>\n",
       "      <td>3</td>\n",
       "      <td>71.0</td>\n",
       "      <td>0</td>\n",
       "      <td>0</td>\n",
       "      <td>46.0</td>\n",
       "      <td>1</td>\n",
       "      <td>2</td>\n",
       "      <td>0</td>\n",
       "      <td>1</td>\n",
       "    </tr>\n",
       "    <tr>\n",
       "      <th>1</th>\n",
       "      <td>0.0</td>\n",
       "      <td>20.0</td>\n",
       "      <td>8.0</td>\n",
       "      <td>14</td>\n",
       "      <td>4183.0</td>\n",
       "      <td>183.0</td>\n",
       "      <td>4.0</td>\n",
       "      <td>26</td>\n",
       "      <td>156.0</td>\n",
       "      <td>0.0</td>\n",
       "      <td>...</td>\n",
       "      <td>5</td>\n",
       "      <td>7</td>\n",
       "      <td>20.0</td>\n",
       "      <td>0</td>\n",
       "      <td>2</td>\n",
       "      <td>13.0</td>\n",
       "      <td>9</td>\n",
       "      <td>6</td>\n",
       "      <td>0</td>\n",
       "      <td>1</td>\n",
       "    </tr>\n",
       "    <tr>\n",
       "      <th>2</th>\n",
       "      <td>14.0</td>\n",
       "      <td>2.0</td>\n",
       "      <td>2.0</td>\n",
       "      <td>9</td>\n",
       "      <td>1113.0</td>\n",
       "      <td>15.0</td>\n",
       "      <td>37.0</td>\n",
       "      <td>31</td>\n",
       "      <td>78.0</td>\n",
       "      <td>1.0</td>\n",
       "      <td>...</td>\n",
       "      <td>7</td>\n",
       "      <td>5</td>\n",
       "      <td>11.0</td>\n",
       "      <td>0</td>\n",
       "      <td>0</td>\n",
       "      <td>7.0</td>\n",
       "      <td>9</td>\n",
       "      <td>2</td>\n",
       "      <td>1</td>\n",
       "      <td>0</td>\n",
       "    </tr>\n",
       "    <tr>\n",
       "      <th>3</th>\n",
       "      <td>0.0</td>\n",
       "      <td>175.0</td>\n",
       "      <td>17.0</td>\n",
       "      <td>16</td>\n",
       "      <td>4250.0</td>\n",
       "      <td>68.0</td>\n",
       "      <td>8.0</td>\n",
       "      <td>30</td>\n",
       "      <td>152.0</td>\n",
       "      <td>0.0</td>\n",
       "      <td>...</td>\n",
       "      <td>1</td>\n",
       "      <td>3</td>\n",
       "      <td>0.0</td>\n",
       "      <td>1</td>\n",
       "      <td>1</td>\n",
       "      <td>31.0</td>\n",
       "      <td>6</td>\n",
       "      <td>4</td>\n",
       "      <td>5</td>\n",
       "      <td>1</td>\n",
       "    </tr>\n",
       "    <tr>\n",
       "      <th>4</th>\n",
       "      <td>2.0</td>\n",
       "      <td>-1.0</td>\n",
       "      <td>1.0</td>\n",
       "      <td>3</td>\n",
       "      <td>0.0</td>\n",
       "      <td>0.0</td>\n",
       "      <td>2.0</td>\n",
       "      <td>5</td>\n",
       "      <td>6.0</td>\n",
       "      <td>1.0</td>\n",
       "      <td>...</td>\n",
       "      <td>1</td>\n",
       "      <td>5</td>\n",
       "      <td>0.0</td>\n",
       "      <td>0</td>\n",
       "      <td>0</td>\n",
       "      <td>2.0</td>\n",
       "      <td>8</td>\n",
       "      <td>0</td>\n",
       "      <td>1</td>\n",
       "      <td>1</td>\n",
       "    </tr>\n",
       "  </tbody>\n",
       "</table>\n",
       "<p>5 rows × 32 columns</p>\n",
       "</div>"
      ],
      "text/plain": [
       "     V1     V2     V3  V4      V5     V6    V7  V8     V9  V10  ...  V45  V47  \\\n",
       "0   0.0    1.0  243.0  29  4528.0  138.0   3.0  29  201.0  0.0  ...    2    3   \n",
       "1   0.0   20.0    8.0  14  4183.0  183.0   4.0  26  156.0  0.0  ...    5    7   \n",
       "2  14.0    2.0    2.0   9  1113.0   15.0  37.0  31   78.0  1.0  ...    7    5   \n",
       "3   0.0  175.0   17.0  16  4250.0   68.0   8.0  30  152.0  0.0  ...    1    3   \n",
       "4   2.0   -1.0    1.0   3     0.0    0.0   2.0   5    6.0  1.0  ...    1    5   \n",
       "\n",
       "    V50  V51  V52   V59  V63  V72  V75  class  \n",
       "0  71.0    0    0  46.0    1    2    0      1  \n",
       "1  20.0    0    2  13.0    9    6    0      1  \n",
       "2  11.0    0    0   7.0    9    2    1      0  \n",
       "3   0.0    1    1  31.0    6    4    5      1  \n",
       "4   0.0    0    0   2.0    8    0    1      1  \n",
       "\n",
       "[5 rows x 32 columns]"
      ]
     },
     "execution_count": 4,
     "metadata": {},
     "output_type": "execute_result"
    }
   ],
   "source": [
    "train_df.head()"
   ]
  },
  {
   "cell_type": "code",
   "execution_count": 5,
   "id": "3e8e0515",
   "metadata": {
    "execution": {
     "iopub.execute_input": "2024-06-20T08:03:40.489736Z",
     "iopub.status.busy": "2024-06-20T08:03:40.489371Z",
     "iopub.status.idle": "2024-06-20T08:03:40.619720Z",
     "shell.execute_reply": "2024-06-20T08:03:40.618655Z"
    },
    "papermill": {
     "duration": 0.144473,
     "end_time": "2024-06-20T08:03:40.622313",
     "exception": false,
     "start_time": "2024-06-20T08:03:40.477840",
     "status": "completed"
    },
    "tags": []
   },
   "outputs": [
    {
     "data": {
      "text/html": [
       "<div>\n",
       "<style scoped>\n",
       "    .dataframe tbody tr th:only-of-type {\n",
       "        vertical-align: middle;\n",
       "    }\n",
       "\n",
       "    .dataframe tbody tr th {\n",
       "        vertical-align: top;\n",
       "    }\n",
       "\n",
       "    .dataframe thead th {\n",
       "        text-align: right;\n",
       "    }\n",
       "</style>\n",
       "<table border=\"1\" class=\"dataframe\">\n",
       "  <thead>\n",
       "    <tr style=\"text-align: right;\">\n",
       "      <th></th>\n",
       "      <th>V1</th>\n",
       "      <th>V2</th>\n",
       "      <th>V3</th>\n",
       "      <th>V4</th>\n",
       "      <th>V5</th>\n",
       "      <th>V6</th>\n",
       "      <th>V7</th>\n",
       "      <th>V8</th>\n",
       "      <th>V9</th>\n",
       "      <th>V10</th>\n",
       "      <th>...</th>\n",
       "      <th>V45</th>\n",
       "      <th>V47</th>\n",
       "      <th>V50</th>\n",
       "      <th>V51</th>\n",
       "      <th>V52</th>\n",
       "      <th>V59</th>\n",
       "      <th>V63</th>\n",
       "      <th>V72</th>\n",
       "      <th>V75</th>\n",
       "      <th>class</th>\n",
       "    </tr>\n",
       "  </thead>\n",
       "  <tbody>\n",
       "    <tr>\n",
       "      <th>count</th>\n",
       "      <td>40776.000000</td>\n",
       "      <td>40776.000000</td>\n",
       "      <td>40776.000000</td>\n",
       "      <td>40776.000000</td>\n",
       "      <td>40776.000000</td>\n",
       "      <td>40776.000000</td>\n",
       "      <td>40776.000000</td>\n",
       "      <td>40776.000000</td>\n",
       "      <td>40776.000000</td>\n",
       "      <td>40776.000000</td>\n",
       "      <td>...</td>\n",
       "      <td>40776.000000</td>\n",
       "      <td>40776.000000</td>\n",
       "      <td>40776.000000</td>\n",
       "      <td>40776.000000</td>\n",
       "      <td>40776.000000</td>\n",
       "      <td>40776.00000</td>\n",
       "      <td>40776.000000</td>\n",
       "      <td>40776.000000</td>\n",
       "      <td>40776.00000</td>\n",
       "      <td>40776.000000</td>\n",
       "    </tr>\n",
       "    <tr>\n",
       "      <th>mean</th>\n",
       "      <td>4.167206</td>\n",
       "      <td>107.012041</td>\n",
       "      <td>28.035879</td>\n",
       "      <td>8.250221</td>\n",
       "      <td>1714.740092</td>\n",
       "      <td>76.849029</td>\n",
       "      <td>28.728124</td>\n",
       "      <td>17.533721</td>\n",
       "      <td>149.706837</td>\n",
       "      <td>0.736144</td>\n",
       "      <td>...</td>\n",
       "      <td>2.658598</td>\n",
       "      <td>6.238817</td>\n",
       "      <td>19.605233</td>\n",
       "      <td>3.231043</td>\n",
       "      <td>0.674563</td>\n",
       "      <td>19.08917</td>\n",
       "      <td>5.937071</td>\n",
       "      <td>3.171204</td>\n",
       "      <td>3.19482</td>\n",
       "      <td>0.501251</td>\n",
       "    </tr>\n",
       "    <tr>\n",
       "      <th>std</th>\n",
       "      <td>9.952973</td>\n",
       "      <td>389.279030</td>\n",
       "      <td>394.669313</td>\n",
       "      <td>8.942177</td>\n",
       "      <td>4789.147970</td>\n",
       "      <td>243.058478</td>\n",
       "      <td>83.490689</td>\n",
       "      <td>13.917054</td>\n",
       "      <td>272.661541</td>\n",
       "      <td>0.714021</td>\n",
       "      <td>...</td>\n",
       "      <td>2.680439</td>\n",
       "      <td>2.586094</td>\n",
       "      <td>71.480746</td>\n",
       "      <td>6.009488</td>\n",
       "      <td>0.710048</td>\n",
       "      <td>64.79848</td>\n",
       "      <td>2.014287</td>\n",
       "      <td>5.747578</td>\n",
       "      <td>5.77309</td>\n",
       "      <td>0.500005</td>\n",
       "    </tr>\n",
       "    <tr>\n",
       "      <th>min</th>\n",
       "      <td>0.000000</td>\n",
       "      <td>-2.000000</td>\n",
       "      <td>0.000000</td>\n",
       "      <td>0.000000</td>\n",
       "      <td>0.000000</td>\n",
       "      <td>0.000000</td>\n",
       "      <td>0.000000</td>\n",
       "      <td>0.000000</td>\n",
       "      <td>0.000000</td>\n",
       "      <td>0.000000</td>\n",
       "      <td>...</td>\n",
       "      <td>0.000000</td>\n",
       "      <td>0.000000</td>\n",
       "      <td>0.000000</td>\n",
       "      <td>0.000000</td>\n",
       "      <td>0.000000</td>\n",
       "      <td>0.00000</td>\n",
       "      <td>0.000000</td>\n",
       "      <td>0.000000</td>\n",
       "      <td>0.00000</td>\n",
       "      <td>0.000000</td>\n",
       "    </tr>\n",
       "    <tr>\n",
       "      <th>25%</th>\n",
       "      <td>0.000000</td>\n",
       "      <td>1.000000</td>\n",
       "      <td>3.000000</td>\n",
       "      <td>2.000000</td>\n",
       "      <td>15.000000</td>\n",
       "      <td>4.000000</td>\n",
       "      <td>3.000000</td>\n",
       "      <td>6.000000</td>\n",
       "      <td>18.000000</td>\n",
       "      <td>0.000000</td>\n",
       "      <td>...</td>\n",
       "      <td>1.000000</td>\n",
       "      <td>5.000000</td>\n",
       "      <td>1.000000</td>\n",
       "      <td>1.000000</td>\n",
       "      <td>0.000000</td>\n",
       "      <td>1.00000</td>\n",
       "      <td>6.000000</td>\n",
       "      <td>1.000000</td>\n",
       "      <td>1.00000</td>\n",
       "      <td>0.000000</td>\n",
       "    </tr>\n",
       "    <tr>\n",
       "      <th>50%</th>\n",
       "      <td>1.000000</td>\n",
       "      <td>5.000000</td>\n",
       "      <td>7.000000</td>\n",
       "      <td>5.000000</td>\n",
       "      <td>401.000000</td>\n",
       "      <td>18.000000</td>\n",
       "      <td>8.000000</td>\n",
       "      <td>14.000000</td>\n",
       "      <td>59.000000</td>\n",
       "      <td>1.000000</td>\n",
       "      <td>...</td>\n",
       "      <td>1.000000</td>\n",
       "      <td>8.000000</td>\n",
       "      <td>4.000000</td>\n",
       "      <td>1.000000</td>\n",
       "      <td>1.000000</td>\n",
       "      <td>4.00000</td>\n",
       "      <td>6.000000</td>\n",
       "      <td>1.000000</td>\n",
       "      <td>1.00000</td>\n",
       "      <td>1.000000</td>\n",
       "    </tr>\n",
       "    <tr>\n",
       "      <th>75%</th>\n",
       "      <td>4.000000</td>\n",
       "      <td>42.000000</td>\n",
       "      <td>18.000000</td>\n",
       "      <td>11.000000</td>\n",
       "      <td>1658.000000</td>\n",
       "      <td>62.000000</td>\n",
       "      <td>23.000000</td>\n",
       "      <td>27.000000</td>\n",
       "      <td>166.000000</td>\n",
       "      <td>1.000000</td>\n",
       "      <td>...</td>\n",
       "      <td>5.000000</td>\n",
       "      <td>8.000000</td>\n",
       "      <td>14.000000</td>\n",
       "      <td>3.000000</td>\n",
       "      <td>1.000000</td>\n",
       "      <td>14.00000</td>\n",
       "      <td>7.000000</td>\n",
       "      <td>3.000000</td>\n",
       "      <td>3.00000</td>\n",
       "      <td>1.000000</td>\n",
       "    </tr>\n",
       "    <tr>\n",
       "      <th>max</th>\n",
       "      <td>816.000000</td>\n",
       "      <td>12274.000000</td>\n",
       "      <td>32743.000000</td>\n",
       "      <td>130.000000</td>\n",
       "      <td>373199.000000</td>\n",
       "      <td>14843.000000</td>\n",
       "      <td>4245.000000</td>\n",
       "      <td>52.000000</td>\n",
       "      <td>7082.000000</td>\n",
       "      <td>7.000000</td>\n",
       "      <td>...</td>\n",
       "      <td>8.000000</td>\n",
       "      <td>10.000000</td>\n",
       "      <td>4552.000000</td>\n",
       "      <td>136.000000</td>\n",
       "      <td>7.000000</td>\n",
       "      <td>2863.00000</td>\n",
       "      <td>13.000000</td>\n",
       "      <td>117.000000</td>\n",
       "      <td>136.00000</td>\n",
       "      <td>1.000000</td>\n",
       "    </tr>\n",
       "  </tbody>\n",
       "</table>\n",
       "<p>8 rows × 32 columns</p>\n",
       "</div>"
      ],
      "text/plain": [
       "                 V1            V2            V3            V4             V5  \\\n",
       "count  40776.000000  40776.000000  40776.000000  40776.000000   40776.000000   \n",
       "mean       4.167206    107.012041     28.035879      8.250221    1714.740092   \n",
       "std        9.952973    389.279030    394.669313      8.942177    4789.147970   \n",
       "min        0.000000     -2.000000      0.000000      0.000000       0.000000   \n",
       "25%        0.000000      1.000000      3.000000      2.000000      15.000000   \n",
       "50%        1.000000      5.000000      7.000000      5.000000     401.000000   \n",
       "75%        4.000000     42.000000     18.000000     11.000000    1658.000000   \n",
       "max      816.000000  12274.000000  32743.000000    130.000000  373199.000000   \n",
       "\n",
       "                 V6            V7            V8            V9           V10  \\\n",
       "count  40776.000000  40776.000000  40776.000000  40776.000000  40776.000000   \n",
       "mean      76.849029     28.728124     17.533721    149.706837      0.736144   \n",
       "std      243.058478     83.490689     13.917054    272.661541      0.714021   \n",
       "min        0.000000      0.000000      0.000000      0.000000      0.000000   \n",
       "25%        4.000000      3.000000      6.000000     18.000000      0.000000   \n",
       "50%       18.000000      8.000000     14.000000     59.000000      1.000000   \n",
       "75%       62.000000     23.000000     27.000000    166.000000      1.000000   \n",
       "max    14843.000000   4245.000000     52.000000   7082.000000      7.000000   \n",
       "\n",
       "       ...           V45           V47           V50           V51  \\\n",
       "count  ...  40776.000000  40776.000000  40776.000000  40776.000000   \n",
       "mean   ...      2.658598      6.238817     19.605233      3.231043   \n",
       "std    ...      2.680439      2.586094     71.480746      6.009488   \n",
       "min    ...      0.000000      0.000000      0.000000      0.000000   \n",
       "25%    ...      1.000000      5.000000      1.000000      1.000000   \n",
       "50%    ...      1.000000      8.000000      4.000000      1.000000   \n",
       "75%    ...      5.000000      8.000000     14.000000      3.000000   \n",
       "max    ...      8.000000     10.000000   4552.000000    136.000000   \n",
       "\n",
       "                V52          V59           V63           V72          V75  \\\n",
       "count  40776.000000  40776.00000  40776.000000  40776.000000  40776.00000   \n",
       "mean       0.674563     19.08917      5.937071      3.171204      3.19482   \n",
       "std        0.710048     64.79848      2.014287      5.747578      5.77309   \n",
       "min        0.000000      0.00000      0.000000      0.000000      0.00000   \n",
       "25%        0.000000      1.00000      6.000000      1.000000      1.00000   \n",
       "50%        1.000000      4.00000      6.000000      1.000000      1.00000   \n",
       "75%        1.000000     14.00000      7.000000      3.000000      3.00000   \n",
       "max        7.000000   2863.00000     13.000000    117.000000    136.00000   \n",
       "\n",
       "              class  \n",
       "count  40776.000000  \n",
       "mean       0.501251  \n",
       "std        0.500005  \n",
       "min        0.000000  \n",
       "25%        0.000000  \n",
       "50%        1.000000  \n",
       "75%        1.000000  \n",
       "max        1.000000  \n",
       "\n",
       "[8 rows x 32 columns]"
      ]
     },
     "execution_count": 5,
     "metadata": {},
     "output_type": "execute_result"
    }
   ],
   "source": [
    "train_df.describe()"
   ]
  },
  {
   "cell_type": "markdown",
   "id": "0a5225cc",
   "metadata": {
    "papermill": {
     "duration": 0.011188,
     "end_time": "2024-06-20T08:03:40.645171",
     "exception": false,
     "start_time": "2024-06-20T08:03:40.633983",
     "status": "completed"
    },
    "tags": []
   },
   "source": [
    "from this, all you have to ensure is to check for outliers, jaise humne vo CnA wali data statistics wali videos m pdha tha"
   ]
  },
  {
   "cell_type": "code",
   "execution_count": 6,
   "id": "294242f0",
   "metadata": {
    "execution": {
     "iopub.execute_input": "2024-06-20T08:03:40.669066Z",
     "iopub.status.busy": "2024-06-20T08:03:40.668654Z",
     "iopub.status.idle": "2024-06-20T08:03:40.689648Z",
     "shell.execute_reply": "2024-06-20T08:03:40.688440Z"
    },
    "papermill": {
     "duration": 0.03556,
     "end_time": "2024-06-20T08:03:40.692071",
     "exception": false,
     "start_time": "2024-06-20T08:03:40.656511",
     "status": "completed"
    },
    "tags": []
   },
   "outputs": [
    {
     "name": "stdout",
     "output_type": "stream",
     "text": [
      "<class 'pandas.core.frame.DataFrame'>\n",
      "RangeIndex: 40776 entries, 0 to 40775\n",
      "Data columns (total 32 columns):\n",
      " #   Column  Non-Null Count  Dtype  \n",
      "---  ------  --------------  -----  \n",
      " 0   V1      40776 non-null  float64\n",
      " 1   V2      40776 non-null  float64\n",
      " 2   V3      40776 non-null  float64\n",
      " 3   V4      40776 non-null  int64  \n",
      " 4   V5      40776 non-null  float64\n",
      " 5   V6      40776 non-null  float64\n",
      " 6   V7      40776 non-null  float64\n",
      " 7   V8      40776 non-null  int64  \n",
      " 8   V9      40776 non-null  float64\n",
      " 9   V10     40776 non-null  float64\n",
      " 10  V11     40776 non-null  int64  \n",
      " 11  V13     40776 non-null  float64\n",
      " 12  V19     40776 non-null  int64  \n",
      " 13  V22     40776 non-null  int64  \n",
      " 14  V30     40776 non-null  int64  \n",
      " 15  V33     40776 non-null  int64  \n",
      " 16  V35     40776 non-null  int64  \n",
      " 17  V36     40776 non-null  int64  \n",
      " 18  V40     40776 non-null  float64\n",
      " 19  V41     40776 non-null  int64  \n",
      " 20  V42     40776 non-null  float64\n",
      " 21  V43     40776 non-null  float64\n",
      " 22  V45     40776 non-null  int64  \n",
      " 23  V47     40776 non-null  int64  \n",
      " 24  V50     40776 non-null  float64\n",
      " 25  V51     40776 non-null  int64  \n",
      " 26  V52     40776 non-null  int64  \n",
      " 27  V59     40776 non-null  float64\n",
      " 28  V63     40776 non-null  int64  \n",
      " 29  V72     40776 non-null  int64  \n",
      " 30  V75     40776 non-null  int64  \n",
      " 31  class   40776 non-null  int64  \n",
      "dtypes: float64(14), int64(18)\n",
      "memory usage: 10.0 MB\n"
     ]
    }
   ],
   "source": [
    "train_df.info()"
   ]
  },
  {
   "cell_type": "code",
   "execution_count": 7,
   "id": "72692ef6",
   "metadata": {
    "execution": {
     "iopub.execute_input": "2024-06-20T08:03:40.716451Z",
     "iopub.status.busy": "2024-06-20T08:03:40.715490Z",
     "iopub.status.idle": "2024-06-20T08:03:40.722774Z",
     "shell.execute_reply": "2024-06-20T08:03:40.721744Z"
    },
    "papermill": {
     "duration": 0.021821,
     "end_time": "2024-06-20T08:03:40.725022",
     "exception": false,
     "start_time": "2024-06-20T08:03:40.703201",
     "status": "completed"
    },
    "tags": []
   },
   "outputs": [
    {
     "data": {
      "text/plain": [
       "Index(['V1', 'V2', 'V3', 'V4', 'V5', 'V6', 'V7', 'V8', 'V9', 'V10', 'V11',\n",
       "       'V13', 'V19', 'V22', 'V30', 'V33', 'V35', 'V36', 'V40', 'V41', 'V42',\n",
       "       'V43', 'V45', 'V47', 'V50', 'V51', 'V52', 'V59', 'V63', 'V72', 'V75',\n",
       "       'class'],\n",
       "      dtype='object')"
      ]
     },
     "execution_count": 7,
     "metadata": {},
     "output_type": "execute_result"
    }
   ],
   "source": [
    "train_df.columns"
   ]
  },
  {
   "cell_type": "code",
   "execution_count": 8,
   "id": "d18d1038",
   "metadata": {
    "execution": {
     "iopub.execute_input": "2024-06-20T08:03:40.749126Z",
     "iopub.status.busy": "2024-06-20T08:03:40.748718Z",
     "iopub.status.idle": "2024-06-20T08:03:40.756613Z",
     "shell.execute_reply": "2024-06-20T08:03:40.755780Z"
    },
    "papermill": {
     "duration": 0.023071,
     "end_time": "2024-06-20T08:03:40.758739",
     "exception": false,
     "start_time": "2024-06-20T08:03:40.735668",
     "status": "completed"
    },
    "tags": []
   },
   "outputs": [],
   "source": [
    "X = train_df.drop(['class'], axis=1)\n",
    "y = train_df['class']"
   ]
  },
  {
   "cell_type": "code",
   "execution_count": 9,
   "id": "79ff93d3",
   "metadata": {
    "execution": {
     "iopub.execute_input": "2024-06-20T08:03:40.782296Z",
     "iopub.status.busy": "2024-06-20T08:03:40.781901Z",
     "iopub.status.idle": "2024-06-20T08:03:40.806392Z",
     "shell.execute_reply": "2024-06-20T08:03:40.805372Z"
    },
    "papermill": {
     "duration": 0.039313,
     "end_time": "2024-06-20T08:03:40.808993",
     "exception": false,
     "start_time": "2024-06-20T08:03:40.769680",
     "status": "completed"
    },
    "tags": []
   },
   "outputs": [],
   "source": [
    "X_train, X_val, y_train, y_val = train_test_split(X, y, test_size = 0.3)"
   ]
  },
  {
   "cell_type": "code",
   "execution_count": 10,
   "id": "76dbe17d",
   "metadata": {
    "execution": {
     "iopub.execute_input": "2024-06-20T08:03:40.833127Z",
     "iopub.status.busy": "2024-06-20T08:03:40.832252Z",
     "iopub.status.idle": "2024-06-20T08:03:40.840539Z",
     "shell.execute_reply": "2024-06-20T08:03:40.839614Z"
    },
    "papermill": {
     "duration": 0.02249,
     "end_time": "2024-06-20T08:03:40.842791",
     "exception": false,
     "start_time": "2024-06-20T08:03:40.820301",
     "status": "completed"
    },
    "tags": []
   },
   "outputs": [
    {
     "name": "stdout",
     "output_type": "stream",
     "text": [
      "class\n",
      "1    14302\n",
      "0    14241\n",
      "Name: count, dtype: int64\n"
     ]
    }
   ],
   "source": [
    "print(y_train.value_counts())"
   ]
  },
  {
   "cell_type": "code",
   "execution_count": 11,
   "id": "7fbb144c",
   "metadata": {
    "execution": {
     "iopub.execute_input": "2024-06-20T08:03:40.867201Z",
     "iopub.status.busy": "2024-06-20T08:03:40.866790Z",
     "iopub.status.idle": "2024-06-20T08:03:40.997610Z",
     "shell.execute_reply": "2024-06-20T08:03:40.996641Z"
    },
    "papermill": {
     "duration": 0.14591,
     "end_time": "2024-06-20T08:03:41.000030",
     "exception": false,
     "start_time": "2024-06-20T08:03:40.854120",
     "status": "completed"
    },
    "tags": []
   },
   "outputs": [
    {
     "data": {
      "text/plain": [
       "(31, 31)"
      ]
     },
     "execution_count": 11,
     "metadata": {},
     "output_type": "execute_result"
    }
   ],
   "source": [
    "df=train_df.drop(['class'], axis=1)\n",
    "correlation_matrix=df.corr()\n",
    "correlation_matrix.shape"
   ]
  },
  {
   "cell_type": "code",
   "execution_count": 12,
   "id": "d5b2d96f",
   "metadata": {
    "execution": {
     "iopub.execute_input": "2024-06-20T08:03:41.024554Z",
     "iopub.status.busy": "2024-06-20T08:03:41.023872Z",
     "iopub.status.idle": "2024-06-20T08:03:41.538120Z",
     "shell.execute_reply": "2024-06-20T08:03:41.536942Z"
    },
    "papermill": {
     "duration": 0.52922,
     "end_time": "2024-06-20T08:03:41.540583",
     "exception": false,
     "start_time": "2024-06-20T08:03:41.011363",
     "status": "completed"
    },
    "tags": []
   },
   "outputs": [
    {
     "data": {
      "text/plain": [
       "<Axes: >"
      ]
     },
     "execution_count": 12,
     "metadata": {},
     "output_type": "execute_result"
    },
    {
     "data": {
      "image/png": "[encoded data removed]",
      "text/plain": [
       "<Figure size 640x480 with 2 Axes>"
      ]
     },
     "metadata": {},
     "output_type": "display_data"
    }
   ],
   "source": [
    "sns.heatmap(correlation_matrix, cmap='coolwarm', linewidth=.2, vmin=-1, vmax=1)\n"
   ]
  },
  {
   "cell_type": "markdown",
   "id": "a6291153",
   "metadata": {
    "papermill": {
     "duration": 0.012087,
     "end_time": "2024-06-20T08:03:41.565226",
     "exception": false,
     "start_time": "2024-06-20T08:03:41.553139",
     "status": "completed"
    },
    "tags": []
   },
   "source": [
    "correlation matrix se we can say that no rows are related that much that we can simply drop them lolz"
   ]
  },
  {
   "cell_type": "code",
   "execution_count": 13,
   "id": "1b858451",
   "metadata": {
    "execution": {
     "iopub.execute_input": "2024-06-20T08:03:41.591766Z",
     "iopub.status.busy": "2024-06-20T08:03:41.591377Z",
     "iopub.status.idle": "2024-06-20T08:03:41.786874Z",
     "shell.execute_reply": "2024-06-20T08:03:41.785809Z"
    },
    "papermill": {
     "duration": 0.211766,
     "end_time": "2024-06-20T08:03:41.789418",
     "exception": false,
     "start_time": "2024-06-20T08:03:41.577652",
     "status": "completed"
    },
    "tags": []
   },
   "outputs": [
    {
     "data": {
      "text/plain": [
       "<Axes: >"
      ]
     },
     "execution_count": 13,
     "metadata": {},
     "output_type": "execute_result"
    },
    {
     "data": {
      "image/png": "[encoded data removed]",
      "text/plain": [
       "<Figure size 640x480 with 1 Axes>"
      ]
     },
     "metadata": {},
     "output_type": "display_data"
    }
   ],
   "source": [
    "sns.boxplot(df.V2)"
   ]
  },
  {
   "cell_type": "code",
   "execution_count": 14,
   "id": "f5af1d14",
   "metadata": {
    "execution": {
     "iopub.execute_input": "2024-06-20T08:03:41.817756Z",
     "iopub.status.busy": "2024-06-20T08:03:41.817370Z",
     "iopub.status.idle": "2024-06-20T08:03:41.822036Z",
     "shell.execute_reply": "2024-06-20T08:03:41.821025Z"
    },
    "papermill": {
     "duration": 0.02128,
     "end_time": "2024-06-20T08:03:41.824308",
     "exception": false,
     "start_time": "2024-06-20T08:03:41.803028",
     "status": "completed"
    },
    "tags": []
   },
   "outputs": [],
   "source": [
    "# lr=LogisticRegression(penalty='l1', solver='liblinear', max_iter = 3000)\n",
    "# lr.fit(X_train, y_train)"
   ]
  },
  {
   "cell_type": "code",
   "execution_count": 15,
   "id": "225ed5e8",
   "metadata": {
    "execution": {
     "iopub.execute_input": "2024-06-20T08:03:41.851623Z",
     "iopub.status.busy": "2024-06-20T08:03:41.850919Z",
     "iopub.status.idle": "2024-06-20T08:03:41.855774Z",
     "shell.execute_reply": "2024-06-20T08:03:41.854684Z"
    },
    "papermill": {
     "duration": 0.0209,
     "end_time": "2024-06-20T08:03:41.857947",
     "exception": false,
     "start_time": "2024-06-20T08:03:41.837047",
     "status": "completed"
    },
    "tags": []
   },
   "outputs": [],
   "source": [
    "# from sklearn.tree import DecisionTreeClassifier\n",
    "# lr = DecisionTreeClassifier(max_depth=4)  # Adjust max_depth to control overfitting\n",
    "# lr.fit(X_train, y_train)\n"
   ]
  },
  {
   "cell_type": "code",
   "execution_count": 16,
   "id": "b8f8a1e4",
   "metadata": {
    "execution": {
     "iopub.execute_input": "2024-06-20T08:03:41.885742Z",
     "iopub.status.busy": "2024-06-20T08:03:41.885314Z",
     "iopub.status.idle": "2024-06-20T08:03:44.478406Z",
     "shell.execute_reply": "2024-06-20T08:03:44.477245Z"
    },
    "papermill": {
     "duration": 2.609726,
     "end_time": "2024-06-20T08:03:44.480962",
     "exception": false,
     "start_time": "2024-06-20T08:03:41.871236",
     "status": "completed"
    },
    "tags": []
   },
   "outputs": [
    {
     "data": {
      "text/html": [
       "<style>#sk-container-id-1 {color: black;background-color: white;}#sk-container-id-1 pre{padding: 0;}#sk-container-id-1 div.sk-toggleable {background-color: white;}#sk-container-id-1 label.sk-toggleable__label {cursor: pointer;display: block;width: 100%;margin-bottom: 0;padding: 0.3em;box-sizing: border-box;text-align: center;}#sk-container-id-1 label.sk-toggleable__label-arrow:before {content: \"▸\";float: left;margin-right: 0.25em;color: #696969;}#sk-container-id-1 label.sk-toggleable__label-arrow:hover:before {color: black;}#sk-container-id-1 div.sk-estimator:hover label.sk-toggleable__label-arrow:before {color: black;}#sk-container-id-1 div.sk-toggleable__content {max-height: 0;max-width: 0;overflow: hidden;text-align: left;background-color: #f0f8ff;}#sk-container-id-1 div.sk-toggleable__content pre {margin: 0.2em;color: black;border-radius: 0.25em;background-color: #f0f8ff;}#sk-container-id-1 input.sk-toggleable__control:checked~div.sk-toggleable__content {max-height: 200px;max-width: 100%;overflow: auto;}#sk-container-id-1 input.sk-toggleable__control:checked~label.sk-toggleable__label-arrow:before {content: \"▾\";}#sk-container-id-1 div.sk-estimator input.sk-toggleable__control:checked~label.sk-toggleable__label {background-color: #d4ebff;}#sk-container-id-1 div.sk-label input.sk-toggleable__control:checked~label.sk-toggleable__label {background-color: #d4ebff;}#sk-container-id-1 input.sk-hidden--visually {border: 0;clip: rect(1px 1px 1px 1px);clip: rect(1px, 1px, 1px, 1px);height: 1px;margin: -1px;overflow: hidden;padding: 0;position: absolute;width: 1px;}#sk-container-id-1 div.sk-estimator {font-family: monospace;background-color: #f0f8ff;border: 1px dotted black;border-radius: 0.25em;box-sizing: border-box;margin-bottom: 0.5em;}#sk-container-id-1 div.sk-estimator:hover {background-color: #d4ebff;}#sk-container-id-1 div.sk-parallel-item::after {content: \"\";width: 100%;border-bottom: 1px solid gray;flex-grow: 1;}#sk-container-id-1 div.sk-label:hover label.sk-toggleable__label {background-color: #d4ebff;}#sk-container-id-1 div.sk-serial::before {content: \"\";position: absolute;border-left: 1px solid gray;box-sizing: border-box;top: 0;bottom: 0;left: 50%;z-index: 0;}#sk-container-id-1 div.sk-serial {display: flex;flex-direction: column;align-items: center;background-color: white;padding-right: 0.2em;padding-left: 0.2em;position: relative;}#sk-container-id-1 div.sk-item {position: relative;z-index: 1;}#sk-container-id-1 div.sk-parallel {display: flex;align-items: stretch;justify-content: center;background-color: white;position: relative;}#sk-container-id-1 div.sk-item::before, #sk-container-id-1 div.sk-parallel-item::before {content: \"\";position: absolute;border-left: 1px solid gray;box-sizing: border-box;top: 0;bottom: 0;left: 50%;z-index: -1;}#sk-container-id-1 div.sk-parallel-item {display: flex;flex-direction: column;z-index: 1;position: relative;background-color: white;}#sk-container-id-1 div.sk-parallel-item:first-child::after {align-self: flex-end;width: 50%;}#sk-container-id-1 div.sk-parallel-item:last-child::after {align-self: flex-start;width: 50%;}#sk-container-id-1 div.sk-parallel-item:only-child::after {width: 0;}#sk-container-id-1 div.sk-dashed-wrapped {border: 1px dashed gray;margin: 0 0.4em 0.5em 0.4em;box-sizing: border-box;padding-bottom: 0.4em;background-color: white;}#sk-container-id-1 div.sk-label label {font-family: monospace;font-weight: bold;display: inline-block;line-height: 1.2em;}#sk-container-id-1 div.sk-label-container {text-align: center;}#sk-container-id-1 div.sk-container {/* jupyter's `normalize.less` sets `[hidden] { display: none; }` but bootstrap.min.css set `[hidden] { display: none !important; }` so we also need the `!important` here to be able to override the default hidden behavior on the sphinx rendered scikit-learn.org. See: https://github.com/scikit-learn/scikit-learn/issues/21755 */display: inline-block !important;position: relative;}#sk-container-id-1 div.sk-text-repr-fallback {display: none;}</style><div id=\"sk-container-id-1\" class=\"sk-top-container\"><div class=\"sk-text-repr-fallback\"><pre>RandomForestClassifier(max_depth=5, n_estimators=90)</pre><b>In a Jupyter environment, please rerun this cell to show the HTML representation or trust the notebook. <br />On GitHub, the HTML representation is unable to render, please try loading this page with nbviewer.org.</b></div><div class=\"sk-container\" hidden><div class=\"sk-item\"><div class=\"sk-estimator sk-toggleable\"><input class=\"sk-toggleable__control sk-hidden--visually\" id=\"sk-estimator-id-1\" type=\"checkbox\" checked><label for=\"sk-estimator-id-1\" class=\"sk-toggleable__label sk-toggleable__label-arrow\">RandomForestClassifier</label><div class=\"sk-toggleable__content\"><pre>RandomForestClassifier(max_depth=5, n_estimators=90)</pre></div></div></div></div></div>"
      ],
      "text/plain": [
       "RandomForestClassifier(max_depth=5, n_estimators=90)"
      ]
     },
     "execution_count": 16,
     "metadata": {},
     "output_type": "execute_result"
    }
   ],
   "source": [
    "from sklearn.ensemble import RandomForestClassifier\n",
    "lr = RandomForestClassifier(n_estimators=90, max_depth=5)  # Adjust max_depth and n_estimators\n",
    "lr.fit(X_train, y_train)\n"
   ]
  },
  {
   "cell_type": "code",
   "execution_count": 17,
   "id": "ce89c620",
   "metadata": {
    "execution": {
     "iopub.execute_input": "2024-06-20T08:03:44.514554Z",
     "iopub.status.busy": "2024-06-20T08:03:44.514168Z",
     "iopub.status.idle": "2024-06-20T08:04:00.511177Z",
     "shell.execute_reply": "2024-06-20T08:04:00.510198Z"
    },
    "papermill": {
     "duration": 16.021189,
     "end_time": "2024-06-20T08:04:00.515274",
     "exception": false,
     "start_time": "2024-06-20T08:03:44.494085",
     "status": "completed"
    },
    "tags": []
   },
   "outputs": [
    {
     "data": {
      "text/html": [
       "<style>#sk-container-id-2 {color: black;background-color: white;}#sk-container-id-2 pre{padding: 0;}#sk-container-id-2 div.sk-toggleable {background-color: white;}#sk-container-id-2 label.sk-toggleable__label {cursor: pointer;display: block;width: 100%;margin-bottom: 0;padding: 0.3em;box-sizing: border-box;text-align: center;}#sk-container-id-2 label.sk-toggleable__label-arrow:before {content: \"▸\";float: left;margin-right: 0.25em;color: #696969;}#sk-container-id-2 label.sk-toggleable__label-arrow:hover:before {color: black;}#sk-container-id-2 div.sk-estimator:hover label.sk-toggleable__label-arrow:before {color: black;}#sk-container-id-2 div.sk-toggleable__content {max-height: 0;max-width: 0;overflow: hidden;text-align: left;background-color: #f0f8ff;}#sk-container-id-2 div.sk-toggleable__content pre {margin: 0.2em;color: black;border-radius: 0.25em;background-color: #f0f8ff;}#sk-container-id-2 input.sk-toggleable__control:checked~div.sk-toggleable__content {max-height: 200px;max-width: 100%;overflow: auto;}#sk-container-id-2 input.sk-toggleable__control:checked~label.sk-toggleable__label-arrow:before {content: \"▾\";}#sk-container-id-2 div.sk-estimator input.sk-toggleable__control:checked~label.sk-toggleable__label {background-color: #d4ebff;}#sk-container-id-2 div.sk-label input.sk-toggleable__control:checked~label.sk-toggleable__label {background-color: #d4ebff;}#sk-container-id-2 input.sk-hidden--visually {border: 0;clip: rect(1px 1px 1px 1px);clip: rect(1px, 1px, 1px, 1px);height: 1px;margin: -1px;overflow: hidden;padding: 0;position: absolute;width: 1px;}#sk-container-id-2 div.sk-estimator {font-family: monospace;background-color: #f0f8ff;border: 1px dotted black;border-radius: 0.25em;box-sizing: border-box;margin-bottom: 0.5em;}#sk-container-id-2 div.sk-estimator:hover {background-color: #d4ebff;}#sk-container-id-2 div.sk-parallel-item::after {content: \"\";width: 100%;border-bottom: 1px solid gray;flex-grow: 1;}#sk-container-id-2 div.sk-label:hover label.sk-toggleable__label {background-color: #d4ebff;}#sk-container-id-2 div.sk-serial::before {content: \"\";position: absolute;border-left: 1px solid gray;box-sizing: border-box;top: 0;bottom: 0;left: 50%;z-index: 0;}#sk-container-id-2 div.sk-serial {display: flex;flex-direction: column;align-items: center;background-color: white;padding-right: 0.2em;padding-left: 0.2em;position: relative;}#sk-container-id-2 div.sk-item {position: relative;z-index: 1;}#sk-container-id-2 div.sk-parallel {display: flex;align-items: stretch;justify-content: center;background-color: white;position: relative;}#sk-container-id-2 div.sk-item::before, #sk-container-id-2 div.sk-parallel-item::before {content: \"\";position: absolute;border-left: 1px solid gray;box-sizing: border-box;top: 0;bottom: 0;left: 50%;z-index: -1;}#sk-container-id-2 div.sk-parallel-item {display: flex;flex-direction: column;z-index: 1;position: relative;background-color: white;}#sk-container-id-2 div.sk-parallel-item:first-child::after {align-self: flex-end;width: 50%;}#sk-container-id-2 div.sk-parallel-item:last-child::after {align-self: flex-start;width: 50%;}#sk-container-id-2 div.sk-parallel-item:only-child::after {width: 0;}#sk-container-id-2 div.sk-dashed-wrapped {border: 1px dashed gray;margin: 0 0.4em 0.5em 0.4em;box-sizing: border-box;padding-bottom: 0.4em;background-color: white;}#sk-container-id-2 div.sk-label label {font-family: monospace;font-weight: bold;display: inline-block;line-height: 1.2em;}#sk-container-id-2 div.sk-label-container {text-align: center;}#sk-container-id-2 div.sk-container {/* jupyter's `normalize.less` sets `[hidden] { display: none; }` but bootstrap.min.css set `[hidden] { display: none !important; }` so we also need the `!important` here to be able to override the default hidden behavior on the sphinx rendered scikit-learn.org. See: https://github.com/scikit-learn/scikit-learn/issues/21755 */display: inline-block !important;position: relative;}#sk-container-id-2 div.sk-text-repr-fallback {display: none;}</style><div id=\"sk-container-id-2\" class=\"sk-top-container\"><div class=\"sk-text-repr-fallback\"><pre>LogisticRegression(max_iter=5000)</pre><b>In a Jupyter environment, please rerun this cell to show the HTML representation or trust the notebook. <br />On GitHub, the HTML representation is unable to render, please try loading this page with nbviewer.org.</b></div><div class=\"sk-container\" hidden><div class=\"sk-item\"><div class=\"sk-estimator sk-toggleable\"><input class=\"sk-toggleable__control sk-hidden--visually\" id=\"sk-estimator-id-2\" type=\"checkbox\" checked><label for=\"sk-estimator-id-2\" class=\"sk-toggleable__label sk-toggleable__label-arrow\">LogisticRegression</label><div class=\"sk-toggleable__content\"><pre>LogisticRegression(max_iter=5000)</pre></div></div></div></div></div>"
      ],
      "text/plain": [
       "LogisticRegression(max_iter=5000)"
      ]
     },
     "execution_count": 17,
     "metadata": {},
     "output_type": "execute_result"
    }
   ],
   "source": [
    "lr2=LogisticRegression(penalty='l2', solver='lbfgs', max_iter = 5000)\n",
    "lr2.fit(X_train, y_train)"
   ]
  },
  {
   "cell_type": "markdown",
   "id": "03ec2d1e",
   "metadata": {
    "papermill": {
     "duration": 0.02748,
     "end_time": "2024-06-20T08:04:00.570244",
     "exception": false,
     "start_time": "2024-06-20T08:04:00.542764",
     "status": "completed"
    },
    "tags": []
   },
   "source": [
    "we see l1 and l2 regularization-- f1 score par it has no effect at all"
   ]
  },
  {
   "cell_type": "code",
   "execution_count": 18,
   "id": "f79eca6f",
   "metadata": {
    "execution": {
     "iopub.execute_input": "2024-06-20T08:04:00.623160Z",
     "iopub.status.busy": "2024-06-20T08:04:00.622775Z",
     "iopub.status.idle": "2024-06-20T08:04:00.626702Z",
     "shell.execute_reply": "2024-06-20T08:04:00.625969Z"
    },
    "papermill": {
     "duration": 0.030948,
     "end_time": "2024-06-20T08:04:00.628747",
     "exception": false,
     "start_time": "2024-06-20T08:04:00.597799",
     "status": "completed"
    },
    "tags": []
   },
   "outputs": [],
   "source": [
    "#we'll also check when we apply both regulalizations together!"
   ]
  },
  {
   "cell_type": "code",
   "execution_count": 19,
   "id": "7980a441",
   "metadata": {
    "execution": {
     "iopub.execute_input": "2024-06-20T08:04:00.656171Z",
     "iopub.status.busy": "2024-06-20T08:04:00.655787Z",
     "iopub.status.idle": "2024-06-20T08:04:00.760904Z",
     "shell.execute_reply": "2024-06-20T08:04:00.759828Z"
    },
    "papermill": {
     "duration": 0.121849,
     "end_time": "2024-06-20T08:04:00.763618",
     "exception": false,
     "start_time": "2024-06-20T08:04:00.641769",
     "status": "completed"
    },
    "tags": []
   },
   "outputs": [],
   "source": [
    "y_pred = lr.predict(X_val)"
   ]
  },
  {
   "cell_type": "code",
   "execution_count": 20,
   "id": "79bdb680",
   "metadata": {
    "execution": {
     "iopub.execute_input": "2024-06-20T08:04:00.792418Z",
     "iopub.status.busy": "2024-06-20T08:04:00.791499Z",
     "iopub.status.idle": "2024-06-20T08:04:00.805624Z",
     "shell.execute_reply": "2024-06-20T08:04:00.804232Z"
    },
    "papermill": {
     "duration": 0.031135,
     "end_time": "2024-06-20T08:04:00.807883",
     "exception": false,
     "start_time": "2024-06-20T08:04:00.776748",
     "status": "completed"
    },
    "tags": []
   },
   "outputs": [
    {
     "name": "stdout",
     "output_type": "stream",
     "text": [
      "F1 score: 0.6652047928577022\n"
     ]
    }
   ],
   "source": [
    "f1 = f1_score(y_val, y_pred)\n",
    "print(f\"F1 score: {f1}\")"
   ]
  },
  {
   "cell_type": "code",
   "execution_count": 21,
   "id": "b0945ce4",
   "metadata": {
    "execution": {
     "iopub.execute_input": "2024-06-20T08:04:00.836397Z",
     "iopub.status.busy": "2024-06-20T08:04:00.835963Z",
     "iopub.status.idle": "2024-06-20T08:04:00.945660Z",
     "shell.execute_reply": "2024-06-20T08:04:00.944698Z"
    },
    "papermill": {
     "duration": 0.126974,
     "end_time": "2024-06-20T08:04:00.948475",
     "exception": false,
     "start_time": "2024-06-20T08:04:00.821501",
     "status": "completed"
    },
    "tags": []
   },
   "outputs": [],
   "source": [
    "test_data = pd.read_csv(\"/kaggle/input/week4-practice-hackathon-2024/Test.csv\")"
   ]
  },
  {
   "cell_type": "code",
   "execution_count": 22,
   "id": "cfde7ecd",
   "metadata": {
    "execution": {
     "iopub.execute_input": "2024-06-20T08:04:00.977409Z",
     "iopub.status.busy": "2024-06-20T08:04:00.976990Z",
     "iopub.status.idle": "2024-06-20T08:04:00.983675Z",
     "shell.execute_reply": "2024-06-20T08:04:00.982691Z"
    },
    "papermill": {
     "duration": 0.023769,
     "end_time": "2024-06-20T08:04:00.985881",
     "exception": false,
     "start_time": "2024-06-20T08:04:00.962112",
     "status": "completed"
    },
    "tags": []
   },
   "outputs": [
    {
     "data": {
      "text/plain": [
       "(17476, 32)"
      ]
     },
     "execution_count": 22,
     "metadata": {},
     "output_type": "execute_result"
    }
   ],
   "source": [
    "test_data.shape"
   ]
  },
  {
   "cell_type": "code",
   "execution_count": 23,
   "id": "5dbb95ec",
   "metadata": {
    "execution": {
     "iopub.execute_input": "2024-06-20T08:04:01.014852Z",
     "iopub.status.busy": "2024-06-20T08:04:01.014052Z",
     "iopub.status.idle": "2024-06-20T08:04:01.023802Z",
     "shell.execute_reply": "2024-06-20T08:04:01.022766Z"
    },
    "papermill": {
     "duration": 0.026862,
     "end_time": "2024-06-20T08:04:01.026360",
     "exception": false,
     "start_time": "2024-06-20T08:04:00.999498",
     "status": "completed"
    },
    "tags": []
   },
   "outputs": [],
   "source": [
    "Index=test_data['Index']\n",
    "test_data.drop(['Index'],axis=1,inplace=True)"
   ]
  },
  {
   "cell_type": "code",
   "execution_count": 24,
   "id": "bb85d9d8",
   "metadata": {
    "execution": {
     "iopub.execute_input": "2024-06-20T08:04:01.054918Z",
     "iopub.status.busy": "2024-06-20T08:04:01.054525Z",
     "iopub.status.idle": "2024-06-20T08:04:01.197543Z",
     "shell.execute_reply": "2024-06-20T08:04:01.196560Z"
    },
    "papermill": {
     "duration": 0.160145,
     "end_time": "2024-06-20T08:04:01.200083",
     "exception": false,
     "start_time": "2024-06-20T08:04:01.039938",
     "status": "completed"
    },
    "tags": []
   },
   "outputs": [],
   "source": [
    "y_test = lr.predict(test_data)"
   ]
  },
  {
   "cell_type": "code",
   "execution_count": 25,
   "id": "0e5c974e",
   "metadata": {
    "execution": {
     "iopub.execute_input": "2024-06-20T08:04:01.229118Z",
     "iopub.status.busy": "2024-06-20T08:04:01.228647Z",
     "iopub.status.idle": "2024-06-20T08:04:01.236331Z",
     "shell.execute_reply": "2024-06-20T08:04:01.235174Z"
    },
    "papermill": {
     "duration": 0.024932,
     "end_time": "2024-06-20T08:04:01.238645",
     "exception": false,
     "start_time": "2024-06-20T08:04:01.213713",
     "status": "completed"
    },
    "tags": []
   },
   "outputs": [
    {
     "data": {
      "text/plain": [
       "array([0, 0, 1, ..., 1, 0, 0])"
      ]
     },
     "execution_count": 25,
     "metadata": {},
     "output_type": "execute_result"
    }
   ],
   "source": [
    "y_test"
   ]
  },
  {
   "cell_type": "code",
   "execution_count": 26,
   "id": "574678f0",
   "metadata": {
    "execution": {
     "iopub.execute_input": "2024-06-20T08:04:01.269134Z",
     "iopub.status.busy": "2024-06-20T08:04:01.268325Z",
     "iopub.status.idle": "2024-06-20T08:04:01.274072Z",
     "shell.execute_reply": "2024-06-20T08:04:01.273048Z"
    },
    "papermill": {
     "duration": 0.023205,
     "end_time": "2024-06-20T08:04:01.276340",
     "exception": false,
     "start_time": "2024-06-20T08:04:01.253135",
     "status": "completed"
    },
    "tags": []
   },
   "outputs": [],
   "source": [
    "result = pd.DataFrame({\n",
    "    'Index': Index,\n",
    "    'class': y_test\n",
    "})"
   ]
  },
  {
   "cell_type": "code",
   "execution_count": 27,
   "id": "2e1fd7f4",
   "metadata": {
    "execution": {
     "iopub.execute_input": "2024-06-20T08:04:01.305212Z",
     "iopub.status.busy": "2024-06-20T08:04:01.304771Z",
     "iopub.status.idle": "2024-06-20T08:04:01.316944Z",
     "shell.execute_reply": "2024-06-20T08:04:01.315891Z"
    },
    "papermill": {
     "duration": 0.029287,
     "end_time": "2024-06-20T08:04:01.319368",
     "exception": false,
     "start_time": "2024-06-20T08:04:01.290081",
     "status": "completed"
    },
    "tags": []
   },
   "outputs": [
    {
     "data": {
      "text/html": [
       "<div>\n",
       "<style scoped>\n",
       "    .dataframe tbody tr th:only-of-type {\n",
       "        vertical-align: middle;\n",
       "    }\n",
       "\n",
       "    .dataframe tbody tr th {\n",
       "        vertical-align: top;\n",
       "    }\n",
       "\n",
       "    .dataframe thead th {\n",
       "        text-align: right;\n",
       "    }\n",
       "</style>\n",
       "<table border=\"1\" class=\"dataframe\">\n",
       "  <thead>\n",
       "    <tr style=\"text-align: right;\">\n",
       "      <th></th>\n",
       "      <th>Index</th>\n",
       "      <th>class</th>\n",
       "    </tr>\n",
       "  </thead>\n",
       "  <tbody>\n",
       "    <tr>\n",
       "      <th>0</th>\n",
       "      <td>40977</td>\n",
       "      <td>0</td>\n",
       "    </tr>\n",
       "    <tr>\n",
       "      <th>1</th>\n",
       "      <td>24157</td>\n",
       "      <td>0</td>\n",
       "    </tr>\n",
       "    <tr>\n",
       "      <th>2</th>\n",
       "      <td>56238</td>\n",
       "      <td>1</td>\n",
       "    </tr>\n",
       "    <tr>\n",
       "      <th>3</th>\n",
       "      <td>55411</td>\n",
       "      <td>1</td>\n",
       "    </tr>\n",
       "    <tr>\n",
       "      <th>4</th>\n",
       "      <td>53175</td>\n",
       "      <td>0</td>\n",
       "    </tr>\n",
       "    <tr>\n",
       "      <th>...</th>\n",
       "      <td>...</td>\n",
       "      <td>...</td>\n",
       "    </tr>\n",
       "    <tr>\n",
       "      <th>17471</th>\n",
       "      <td>17197</td>\n",
       "      <td>1</td>\n",
       "    </tr>\n",
       "    <tr>\n",
       "      <th>17472</th>\n",
       "      <td>14094</td>\n",
       "      <td>0</td>\n",
       "    </tr>\n",
       "    <tr>\n",
       "      <th>17473</th>\n",
       "      <td>34598</td>\n",
       "      <td>1</td>\n",
       "    </tr>\n",
       "    <tr>\n",
       "      <th>17474</th>\n",
       "      <td>17845</td>\n",
       "      <td>0</td>\n",
       "    </tr>\n",
       "    <tr>\n",
       "      <th>17475</th>\n",
       "      <td>11574</td>\n",
       "      <td>0</td>\n",
       "    </tr>\n",
       "  </tbody>\n",
       "</table>\n",
       "<p>17476 rows × 2 columns</p>\n",
       "</div>"
      ],
      "text/plain": [
       "       Index  class\n",
       "0      40977      0\n",
       "1      24157      0\n",
       "2      56238      1\n",
       "3      55411      1\n",
       "4      53175      0\n",
       "...      ...    ...\n",
       "17471  17197      1\n",
       "17472  14094      0\n",
       "17473  34598      1\n",
       "17474  17845      0\n",
       "17475  11574      0\n",
       "\n",
       "[17476 rows x 2 columns]"
      ]
     },
     "execution_count": 27,
     "metadata": {},
     "output_type": "execute_result"
    }
   ],
   "source": [
    "result"
   ]
  },
  {
   "cell_type": "code",
   "execution_count": 28,
   "id": "02f8d8df",
   "metadata": {
    "execution": {
     "iopub.execute_input": "2024-06-20T08:04:01.350063Z",
     "iopub.status.busy": "2024-06-20T08:04:01.349652Z",
     "iopub.status.idle": "2024-06-20T08:04:01.381284Z",
     "shell.execute_reply": "2024-06-20T08:04:01.380201Z"
    },
    "papermill": {
     "duration": 0.049912,
     "end_time": "2024-06-20T08:04:01.384135",
     "exception": false,
     "start_time": "2024-06-20T08:04:01.334223",
     "status": "completed"
    },
    "tags": []
   },
   "outputs": [],
   "source": [
    "result.to_csv(\"submission.csv\", index=False) #(for making submission file)"
   ]
  },
  {
   "cell_type": "code",
   "execution_count": null,
   "id": "f751fc58",
   "metadata": {
    "papermill": {
     "duration": 0.013857,
     "end_time": "2024-06-20T08:04:01.412409",
     "exception": false,
     "start_time": "2024-06-20T08:04:01.398552",
     "status": "completed"
    },
    "tags": []
   },
   "outputs": [],
   "source": []
  }
 ],
 "metadata": {
  "kaggle": {
   "accelerator": "none",
   "dataSources": [
    {
     "databundleVersionId": 8809707,
     "sourceId": 81427,
     "sourceType": "competition"
    }
   ],
   "dockerImageVersionId": 30732,
   "isGpuEnabled": false,
   "isInternetEnabled": false,
   "language": "python",
   "sourceType": "notebook"
  },
  "kernelspec": {
   "display_name": "Python 3",
   "language": "python",
   "name": "python3"
  },
  "language_info": {
   "codemirror_mode": {
    "name": "ipython",
    "version": 3
   },
   "file_extension": ".py",
   "mimetype": "text/x-python",
   "name": "python",
   "nbconvert_exporter": "python",
   "pygments_lexer": "ipython3",
   "version": "3.10.13"
  },
  "papermill": {
   "default_parameters": {},
   "duration": 27.281663,
   "end_time": "2024-06-20T08:04:02.048573",
   "environment_variables": {},
   "exception": null,
   "input_path": "__notebook__.ipynb",
   "output_path": "__notebook__.ipynb",
   "parameters": {},
   "start_time": "2024-06-20T08:03:34.766910",
   "version": "2.5.0"
  }
 },
 "nbformat": 4,
 "nbformat_minor": 5
}
